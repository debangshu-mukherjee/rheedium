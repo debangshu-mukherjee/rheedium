{
 "cells": [
  {
   "cell_type": "markdown",
   "metadata": {},
   "source": [
    "# Load the necessary modules."
   ]
  },
  {
   "cell_type": "code",
   "execution_count": 1,
   "metadata": {},
   "outputs": [],
   "source": [
    "import jax.numpy as jnp\n",
    "import jax\n",
    "import rheedium as rh"
   ]
  },
  {
   "cell_type": "markdown",
   "metadata": {},
   "source": [
    "## Use `autoreload` to reload changed modules, you may disable this for normal use."
   ]
  },
  {
   "cell_type": "code",
   "execution_count": 2,
   "metadata": {},
   "outputs": [],
   "source": [
    "%load_ext autoreload\n",
    "%autoreload 2"
   ]
  },
  {
   "cell_type": "code",
   "execution_count": 4,
   "metadata": {},
   "outputs": [],
   "source": [
    "structure_file = rh.inout.parse_cif(\"../data/SrTiO3.cif\")"
   ]
  },
  {
   "cell_type": "code",
   "execution_count": 5,
   "metadata": {},
   "outputs": [
    {
     "data": {
      "text/plain": [
       "CrystalStructure(frac_positions=Array([[ 0.5,  0.5,  0.5, 38. ],\n",
       "       [ 0. ,  0. ,  0.5, 22. ]], dtype=float64), cart_positions=Array([[1.97256507e+00, 1.97256507e+00, 1.97256506e+00, 3.80000000e+01],\n",
       "       [1.20784775e-16, 1.20784775e-16, 1.97256506e+00, 2.20000000e+01]],      dtype=float64), cell_lengths=Array([3.94513013, 3.94513013, 3.94513013], dtype=float64), cell_angles=Array([90., 90., 90.], dtype=float64))"
      ]
     },
     "execution_count": 5,
     "metadata": {},
     "output_type": "execute_result"
    }
   ],
   "source": [
    "structure_file"
   ]
  },
  {
   "cell_type": "code",
   "execution_count": 6,
   "metadata": {},
   "outputs": [],
   "source": [
    "zone_axis = jnp.array([1, 1, 1])\n",
    "thickness = jnp.asarray([12, 12, 2])"
   ]
  },
  {
   "cell_type": "markdown",
   "metadata": {},
   "source": [
    "# Now, load the parameters"
   ]
  },
  {
   "cell_type": "code",
   "execution_count": 7,
   "metadata": {},
   "outputs": [],
   "source": [
    "voltage_kV = 20.0          # Electron beam voltage in kV\n",
    "theta_deg = 2.0            # Grazing angle\n",
    "hmax, kmax, lmax = 4, 4, 2 # Reciprocal lattice indexing bounds\n",
    "detector_distance = 1000.0 # Detector distance in Å\n",
    "tolerance = 0.05           # Tolerance for Ewald sphere intersection"
   ]
  },
  {
   "cell_type": "markdown",
   "metadata": {},
   "source": [
    "# Now, we will process things step by step."
   ]
  },
  {
   "cell_type": "markdown",
   "metadata": {},
   "source": [
    "## Electron wavelength (Å)"
   ]
  },
  {
   "cell_type": "code",
   "execution_count": 8,
   "metadata": {},
   "outputs": [
    {
     "ename": "TypeCheckError",
     "evalue": "Type-check error whilst checking the parameters of rheedium.ucell.helper.wavelength_ang.\nThe problem arose whilst typechecking parameter 'energy_kev'.\nActual value: 20.0\nExpected type: <class 'Float[Array, '...']'>.\n----------------------\nCalled with parameters: {'energy_kev': 20.0}\nParameter annotations: (energy_kev: Float[Array, '...']) -> Any.\n",
     "output_type": "error",
     "traceback": [
      "\u001b[0;31m---------------------------------------------------------------------------\u001b[0m",
      "\u001b[0;31mBeartypeCallHintParamViolation\u001b[0m            Traceback (most recent call last)",
      "File \u001b[0;32m~/Codes/rheedium/.venv/lib/python3.11/site-packages/jaxtyping/_decorator.py:446\u001b[0m, in \u001b[0;36mjaxtyped.<locals>.wrapped_fn_impl\u001b[0;34m(args, kwargs, bound, memos)\u001b[0m\n\u001b[1;32m    445\u001b[0m \u001b[38;5;28;01mtry\u001b[39;00m:\n\u001b[0;32m--> 446\u001b[0m     \u001b[43mparam_fn\u001b[49m\u001b[43m(\u001b[49m\u001b[38;5;241;43m*\u001b[39;49m\u001b[43margs\u001b[49m\u001b[43m,\u001b[49m\u001b[43m \u001b[49m\u001b[38;5;241;43m*\u001b[39;49m\u001b[38;5;241;43m*\u001b[39;49m\u001b[43mkwargs\u001b[49m\u001b[43m)\u001b[49m\n\u001b[1;32m    447\u001b[0m \u001b[38;5;28;01mexcept\u001b[39;00m AnnotationError:\n",
      "File \u001b[0;32m<@beartype(rheedium.ucell.helper.wavelength_ang) at 0x7f9fe8555800>:29\u001b[0m, in \u001b[0;36mwavelength_ang\u001b[0;34m(__beartype_object_94923623211616, __beartype_get_violation, __beartype_conf, __beartype_check_meta, __beartype_func, *args, **kwargs)\u001b[0m\n",
      "\u001b[0;31mBeartypeCallHintParamViolation\u001b[0m: Function rheedium.ucell.helper.wavelength_ang() parameter energy_kev=20.0 violates type hint <class 'jaxtyping.Float[Array, '...']'>, as this value is not an instance of the underlying array type <class 'jax.Array'>.",
      "\nDuring handling of the above exception, another exception occurred:\n",
      "\u001b[0;31mBeartypeCallHintParamViolation\u001b[0m            Traceback (most recent call last)",
      "File \u001b[0;32m~/Codes/rheedium/.venv/lib/python3.11/site-packages/jaxtyping/_decorator.py:811\u001b[0m, in \u001b[0;36m_get_problem_arg\u001b[0;34m(param_signature, args, kwargs, arguments, module, typechecker)\u001b[0m\n\u001b[1;32m    810\u001b[0m \u001b[38;5;28;01mtry\u001b[39;00m:\n\u001b[0;32m--> 811\u001b[0m     \u001b[43mfn\u001b[49m\u001b[43m(\u001b[49m\u001b[38;5;241;43m*\u001b[39;49m\u001b[43margs\u001b[49m\u001b[43m,\u001b[49m\u001b[43m \u001b[49m\u001b[38;5;241;43m*\u001b[39;49m\u001b[38;5;241;43m*\u001b[39;49m\u001b[43mkwargs\u001b[49m\u001b[43m)\u001b[49m\n\u001b[1;32m    812\u001b[0m \u001b[38;5;28;01mexcept\u001b[39;00m \u001b[38;5;167;01mException\u001b[39;00m \u001b[38;5;28;01mas\u001b[39;00m e:\n",
      "File \u001b[0;32m<@beartype(rheedium.ucell.helper.check_single_arg) at 0x7f9fe05096c0>:29\u001b[0m, in \u001b[0;36mcheck_single_arg\u001b[0;34m(__beartype_object_94923623211616, __beartype_get_violation, __beartype_conf, __beartype_check_meta, __beartype_func, *args, **kwargs)\u001b[0m\n",
      "\u001b[0;31mBeartypeCallHintParamViolation\u001b[0m: Function rheedium.ucell.helper.check_single_arg() parameter energy_kev=20.0 violates type hint <class 'jaxtyping.Float[Array, '...']'>, as this value is not an instance of the underlying array type <class 'jax.Array'>.",
      "\nThe above exception was the direct cause of the following exception:\n",
      "\u001b[0;31mTypeCheckError\u001b[0m                            Traceback (most recent call last)",
      "File \u001b[0;32m~/Codes/rheedium/.venv/lib/python3.11/site-packages/jaxtyping/_decorator.py:451\u001b[0m, in \u001b[0;36mjaxtyped.<locals>.wrapped_fn_impl\u001b[0;34m(args, kwargs, bound, memos)\u001b[0m\n\u001b[1;32m    450\u001b[0m \u001b[38;5;28;01mtry\u001b[39;00m:\n\u001b[0;32m--> 451\u001b[0m     argmsg \u001b[38;5;241m=\u001b[39m \u001b[43m_get_problem_arg\u001b[49m\u001b[43m(\u001b[49m\n\u001b[1;32m    452\u001b[0m \u001b[43m        \u001b[49m\u001b[43mparam_signature\u001b[49m\u001b[43m,\u001b[49m\n\u001b[1;32m    453\u001b[0m \u001b[43m        \u001b[49m\u001b[43margs\u001b[49m\u001b[43m,\u001b[49m\n\u001b[1;32m    454\u001b[0m \u001b[43m        \u001b[49m\u001b[43mkwargs\u001b[49m\u001b[43m,\u001b[49m\n\u001b[1;32m    455\u001b[0m \u001b[43m        \u001b[49m\u001b[43mbound\u001b[49m\u001b[38;5;241;43m.\u001b[39;49m\u001b[43marguments\u001b[49m\u001b[43m,\u001b[49m\n\u001b[1;32m    456\u001b[0m \u001b[43m        \u001b[49m\u001b[43mmodule\u001b[49m\u001b[43m,\u001b[49m\n\u001b[1;32m    457\u001b[0m \u001b[43m        \u001b[49m\u001b[43mtypechecker\u001b[49m\u001b[43m,\u001b[49m\n\u001b[1;32m    458\u001b[0m \u001b[43m    \u001b[49m\u001b[43m)\u001b[49m\n\u001b[1;32m    459\u001b[0m \u001b[38;5;28;01mexcept\u001b[39;00m TypeCheckError \u001b[38;5;28;01mas\u001b[39;00m e:\n",
      "File \u001b[0;32m~/Codes/rheedium/.venv/lib/python3.11/site-packages/jaxtyping/_decorator.py:814\u001b[0m, in \u001b[0;36m_get_problem_arg\u001b[0;34m(param_signature, args, kwargs, arguments, module, typechecker)\u001b[0m\n\u001b[1;32m    813\u001b[0m         keep_value \u001b[38;5;241m=\u001b[39m _pformat(arguments[keep_name], short_self\u001b[38;5;241m=\u001b[39m\u001b[38;5;28;01mFalse\u001b[39;00m)\n\u001b[0;32m--> 814\u001b[0m         \u001b[38;5;28;01mraise\u001b[39;00m TypeCheckError(\n\u001b[1;32m    815\u001b[0m             \u001b[38;5;124mf\u001b[39m\u001b[38;5;124m\"\u001b[39m\u001b[38;5;130;01m\\n\u001b[39;00m\u001b[38;5;124mThe problem arose whilst typechecking parameter \u001b[39m\u001b[38;5;124m'\u001b[39m\u001b[38;5;132;01m{\u001b[39;00mkeep_name\u001b[38;5;132;01m}\u001b[39;00m\u001b[38;5;124m'\u001b[39m\u001b[38;5;124m.\u001b[39m\u001b[38;5;130;01m\\n\u001b[39;00m\u001b[38;5;124m\"\u001b[39m\n\u001b[1;32m    816\u001b[0m             \u001b[38;5;124mf\u001b[39m\u001b[38;5;124m\"\u001b[39m\u001b[38;5;124mActual value: \u001b[39m\u001b[38;5;132;01m{\u001b[39;00mkeep_value\u001b[38;5;132;01m}\u001b[39;00m\u001b[38;5;130;01m\\n\u001b[39;00m\u001b[38;5;124m\"\u001b[39m\n\u001b[1;32m    817\u001b[0m             \u001b[38;5;124mf\u001b[39m\u001b[38;5;124m\"\u001b[39m\u001b[38;5;124mExpected type: \u001b[39m\u001b[38;5;132;01m{\u001b[39;00mkeep_annotation\u001b[38;5;132;01m}\u001b[39;00m\u001b[38;5;124m.\u001b[39m\u001b[38;5;124m\"\u001b[39m\n\u001b[1;32m    818\u001b[0m         ) \u001b[38;5;28;01mfrom\u001b[39;00m\u001b[38;5;250m \u001b[39m\u001b[38;5;21;01me\u001b[39;00m\n\u001b[1;32m    819\u001b[0m \u001b[38;5;28;01melse\u001b[39;00m:\n\u001b[1;32m    820\u001b[0m     \u001b[38;5;66;03m# Could not localise the problem to a single argument -- probably due to\u001b[39;00m\n\u001b[1;32m    821\u001b[0m     \u001b[38;5;66;03m# e.g. a mismatched typevar, which each individual argument is okay with.\u001b[39;00m\n",
      "\u001b[0;31mTypeCheckError\u001b[0m: \nThe problem arose whilst typechecking parameter 'energy_kev'.\nActual value: 20.0\nExpected type: <class 'Float[Array, '...']'>.",
      "\nThe above exception was the direct cause of the following exception:\n",
      "\u001b[0;31mTypeCheckError\u001b[0m                            Traceback (most recent call last)",
      "Cell \u001b[0;32mIn[8], line 1\u001b[0m\n\u001b[0;32m----> 1\u001b[0m lam_ang \u001b[38;5;241m=\u001b[39m \u001b[43mrh\u001b[49m\u001b[38;5;241;43m.\u001b[39;49m\u001b[43mucell\u001b[49m\u001b[38;5;241;43m.\u001b[39;49m\u001b[43mwavelength_ang\u001b[49m\u001b[43m(\u001b[49m\u001b[43mvoltage_kV\u001b[49m\u001b[43m)\u001b[49m\n",
      "    \u001b[0;31m[... skipping hidden 1 frame]\u001b[0m\n",
      "File \u001b[0;32m~/Codes/rheedium/.venv/lib/python3.11/site-packages/jaxtyping/_decorator.py:480\u001b[0m, in \u001b[0;36mjaxtyped.<locals>.wrapped_fn_impl\u001b[0;34m(args, kwargs, bound, memos)\u001b[0m\n\u001b[1;32m    478\u001b[0m             \u001b[38;5;28;01mraise\u001b[39;00m TypeCheckError(msg) \u001b[38;5;28;01mfrom\u001b[39;00m\u001b[38;5;250m \u001b[39m\u001b[38;5;28;01mNone\u001b[39;00m\n\u001b[1;32m    479\u001b[0m         \u001b[38;5;28;01melse\u001b[39;00m:\n\u001b[0;32m--> 480\u001b[0m             \u001b[38;5;28;01mraise\u001b[39;00m TypeCheckError(msg) \u001b[38;5;28;01mfrom\u001b[39;00m\u001b[38;5;250m \u001b[39m\u001b[38;5;21;01me\u001b[39;00m\n\u001b[1;32m    482\u001b[0m \u001b[38;5;66;03m# Actually call the function.\u001b[39;00m\n\u001b[1;32m    483\u001b[0m out \u001b[38;5;241m=\u001b[39m fn(\u001b[38;5;241m*\u001b[39margs, \u001b[38;5;241m*\u001b[39m\u001b[38;5;241m*\u001b[39mkwargs)\n",
      "\u001b[0;31mTypeCheckError\u001b[0m: Type-check error whilst checking the parameters of rheedium.ucell.helper.wavelength_ang.\nThe problem arose whilst typechecking parameter 'energy_kev'.\nActual value: 20.0\nExpected type: <class 'Float[Array, '...']'>.\n----------------------\nCalled with parameters: {'energy_kev': 20.0}\nParameter annotations: (energy_kev: Float[Array, '...']) -> Any.\n"
     ]
    }
   ],
   "source": [
    "lam_ang = rh.ucell.wavelength_ang(voltage_kV)"
   ]
  },
  {
   "cell_type": "markdown",
   "metadata": {},
   "source": [
    "## Build real-space lattice vectors"
   ]
  },
  {
   "cell_type": "code",
   "execution_count": null,
   "metadata": {},
   "outputs": [],
   "source": [
    "cell_vectors = ucell.build_cell_vectors(*structure_file.cell_lengths, *structure_file.cell_angles)"
   ]
  },
  {
   "cell_type": "code",
   "execution_count": null,
   "metadata": {},
   "outputs": [
    {
     "data": {
      "text/plain": [
       "Array([[3.94513013e+00, 0.00000000e+00, 0.00000000e+00],\n",
       "       [2.41569549e-16, 3.94513013e+00, 0.00000000e+00],\n",
       "       [2.41569549e-16, 2.41569549e-16, 3.94513013e+00]], dtype=float64)"
      ]
     },
     "execution_count": null,
     "metadata": {},
     "output_type": "execute_result"
    }
   ],
   "source": [
    "cell_vectors"
   ]
  },
  {
   "cell_type": "markdown",
   "metadata": {},
   "source": [
    "## Generate reciprocal lattice vectors"
   ]
  },
  {
   "cell_type": "code",
   "execution_count": null,
   "metadata": {},
   "outputs": [],
   "source": [
    "Gs = ucell.generate_reciprocal_points(\n",
    "    crystal=structure_file,\n",
    "    hmax=hmax,\n",
    "    kmax=kmax,\n",
    "    lmax=lmax,\n",
    "    in_degrees=True\n",
    ")"
   ]
  },
  {
   "cell_type": "markdown",
   "metadata": {},
   "source": [
    "## Incident wavevector"
   ]
  },
  {
   "cell_type": "code",
   "execution_count": null,
   "metadata": {},
   "outputs": [],
   "source": [
    "k_in = simul.incident_wavevector(lam_ang, theta_deg)"
   ]
  },
  {
   "cell_type": "markdown",
   "metadata": {},
   "source": [
    "## Allowed reflections by kinematic scattering conditions"
   ]
  },
  {
   "cell_type": "code",
   "execution_count": null,
   "metadata": {},
   "outputs": [],
   "source": [
    "allowed_indices, k_out = simul.find_kinematic_reflections(\n",
    "    k_in=k_in,\n",
    "    Gs=Gs,\n",
    "    lam_ang=lam_ang,\n",
    ")"
   ]
  },
  {
   "cell_type": "markdown",
   "metadata": {},
   "source": [
    "## Project wavevectors onto the detector plane"
   ]
  },
  {
   "cell_type": "code",
   "execution_count": null,
   "metadata": {},
   "outputs": [],
   "source": [
    "detector_points = simul.project_on_detector(k_out, detector_distance)"
   ]
  },
  {
   "cell_type": "markdown",
   "metadata": {},
   "source": [
    "## Compute kinematic intensities"
   ]
  },
  {
   "cell_type": "code",
   "execution_count": null,
   "metadata": {},
   "outputs": [],
   "source": [
    "atom_positions = structure_file.cart_positions[:, :3]\n",
    "G_allowed = Gs[allowed_indices]\n",
    "intensities = simul.compute_kinematic_intensities(atom_positions, G_allowed)"
   ]
  },
  {
   "cell_type": "code",
   "execution_count": null,
   "metadata": {},
   "outputs": [],
   "source": [
    "pattern = types.RHEEDPattern(\n",
    "    G_indices=allowed_indices,\n",
    "    k_out=k_out,\n",
    "    detector_points=detector_points,\n",
    "    intensities=intensities,\n",
    ")"
   ]
  },
  {
   "cell_type": "markdown",
   "metadata": {},
   "source": [
    "## Plot the RHEED pattern"
   ]
  },
  {
   "cell_type": "code",
   "execution_count": null,
   "metadata": {},
   "outputs": [
    {
     "ename": "ValueError",
     "evalue": "zero-size array to reduction operation minimum which has no identity",
     "output_type": "error",
     "traceback": [
      "\u001b[0;31m---------------------------------------------------------------------------\u001b[0m",
      "\u001b[0;31mValueError\u001b[0m                                Traceback (most recent call last)",
      "Cell \u001b[0;32mIn[16], line 1\u001b[0m\n\u001b[0;32m----> 1\u001b[0m \u001b[43mplots\u001b[49m\u001b[38;5;241;43m.\u001b[39;49m\u001b[43mplot_rheed\u001b[49m\u001b[43m(\u001b[49m\u001b[43mpattern\u001b[49m\u001b[43m,\u001b[49m\u001b[43m \u001b[49m\u001b[43mgrid_size\u001b[49m\u001b[38;5;241;43m=\u001b[39;49m\u001b[38;5;241;43m400\u001b[39;49m\u001b[43m,\u001b[49m\u001b[43m \u001b[49m\u001b[43minterp_type\u001b[49m\u001b[38;5;241;43m=\u001b[39;49m\u001b[38;5;124;43m\"\u001b[39;49m\u001b[38;5;124;43mcubic\u001b[39;49m\u001b[38;5;124;43m\"\u001b[39;49m\u001b[43m)\u001b[49m\n",
      "File \u001b[0;32m/achs/debangshu/Codes/rheedium/src/rheedium/plots/figuring.py:112\u001b[0m, in \u001b[0;36mplot_rheed\u001b[0;34m(rheed_pattern, grid_size, interp_type, cmap_name)\u001b[0m\n\u001b[1;32m    107\u001b[0m \u001b[38;5;28;01melse\u001b[39;00m:\n\u001b[1;32m    108\u001b[0m     \u001b[38;5;28;01mraise\u001b[39;00m \u001b[38;5;167;01mValueError\u001b[39;00m(\n\u001b[1;32m    109\u001b[0m         \u001b[38;5;124m\"\u001b[39m\u001b[38;5;124minterp_type must be one of: \u001b[39m\u001b[38;5;124m'\u001b[39m\u001b[38;5;124mcubic\u001b[39m\u001b[38;5;124m'\u001b[39m\u001b[38;5;124m, \u001b[39m\u001b[38;5;124m'\u001b[39m\u001b[38;5;124mlinear\u001b[39m\u001b[38;5;124m'\u001b[39m\u001b[38;5;124m, or \u001b[39m\u001b[38;5;124m'\u001b[39m\u001b[38;5;124mnearest\u001b[39m\u001b[38;5;124m'\u001b[39m\u001b[38;5;124m. \u001b[39m\u001b[38;5;124m\"\u001b[39m\n\u001b[1;32m    110\u001b[0m         \u001b[38;5;124mf\u001b[39m\u001b[38;5;124m\"\u001b[39m\u001b[38;5;124mGot: \u001b[39m\u001b[38;5;132;01m{\u001b[39;00minterp_type\u001b[38;5;132;01m}\u001b[39;00m\u001b[38;5;124m\"\u001b[39m\n\u001b[1;32m    111\u001b[0m     )\n\u001b[0;32m--> 112\u001b[0m y_min, y_max \u001b[38;5;241m=\u001b[39m \u001b[38;5;28mfloat\u001b[39m(\u001b[43mY_np\u001b[49m\u001b[38;5;241;43m.\u001b[39;49m\u001b[43mmin\u001b[49m\u001b[43m(\u001b[49m\u001b[43m)\u001b[49m), \u001b[38;5;28mfloat\u001b[39m(Y_np\u001b[38;5;241m.\u001b[39mmax())\n\u001b[1;32m    113\u001b[0m z_min, z_max \u001b[38;5;241m=\u001b[39m \u001b[38;5;28mfloat\u001b[39m(Z_np\u001b[38;5;241m.\u001b[39mmin()), \u001b[38;5;28mfloat\u001b[39m(Z_np\u001b[38;5;241m.\u001b[39mmax())\n\u001b[1;32m    114\u001b[0m y_lin \u001b[38;5;241m=\u001b[39m np\u001b[38;5;241m.\u001b[39mlinspace(y_min, y_max, grid_size)\n",
      "File \u001b[0;32m/achs/debangshu/Codes/rheedium/.venv/lib/python3.12/site-packages/numpy/_core/_methods.py:48\u001b[0m, in \u001b[0;36m_amin\u001b[0;34m(a, axis, out, keepdims, initial, where)\u001b[0m\n\u001b[1;32m     46\u001b[0m \u001b[38;5;28;01mdef\u001b[39;00m\u001b[38;5;250m \u001b[39m\u001b[38;5;21m_amin\u001b[39m(a, axis\u001b[38;5;241m=\u001b[39m\u001b[38;5;28;01mNone\u001b[39;00m, out\u001b[38;5;241m=\u001b[39m\u001b[38;5;28;01mNone\u001b[39;00m, keepdims\u001b[38;5;241m=\u001b[39m\u001b[38;5;28;01mFalse\u001b[39;00m,\n\u001b[1;32m     47\u001b[0m           initial\u001b[38;5;241m=\u001b[39m_NoValue, where\u001b[38;5;241m=\u001b[39m\u001b[38;5;28;01mTrue\u001b[39;00m):\n\u001b[0;32m---> 48\u001b[0m     \u001b[38;5;28;01mreturn\u001b[39;00m \u001b[43mumr_minimum\u001b[49m\u001b[43m(\u001b[49m\u001b[43ma\u001b[49m\u001b[43m,\u001b[49m\u001b[43m \u001b[49m\u001b[43maxis\u001b[49m\u001b[43m,\u001b[49m\u001b[43m \u001b[49m\u001b[38;5;28;43;01mNone\u001b[39;49;00m\u001b[43m,\u001b[49m\u001b[43m \u001b[49m\u001b[43mout\u001b[49m\u001b[43m,\u001b[49m\u001b[43m \u001b[49m\u001b[43mkeepdims\u001b[49m\u001b[43m,\u001b[49m\u001b[43m \u001b[49m\u001b[43minitial\u001b[49m\u001b[43m,\u001b[49m\u001b[43m \u001b[49m\u001b[43mwhere\u001b[49m\u001b[43m)\u001b[49m\n",
      "\u001b[0;31mValueError\u001b[0m: zero-size array to reduction operation minimum which has no identity"
     ]
    }
   ],
   "source": [
    "plots.plot_rheed(pattern, grid_size=400, interp_type=\"cubic\")"
   ]
  }
 ],
 "metadata": {
  "kernelspec": {
   "display_name": ".venv (3.11.6)",
   "language": "python",
   "name": "python3"
  },
  "language_info": {
   "codemirror_mode": {
    "name": "ipython",
    "version": 3
   },
   "file_extension": ".py",
   "mimetype": "text/x-python",
   "name": "python",
   "nbconvert_exporter": "python",
   "pygments_lexer": "ipython3",
   "version": "3.11.6"
  }
 },
 "nbformat": 4,
 "nbformat_minor": 4
}
